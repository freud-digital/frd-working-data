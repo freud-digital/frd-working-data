{
 "cells": [
  {
   "cell_type": "code",
   "execution_count": 1,
   "id": "4841e4bb",
   "metadata": {},
   "outputs": [],
   "source": [
    "import glob"
   ]
  },
  {
   "cell_type": "code",
   "execution_count": 2,
   "id": "ee9fc4fc",
   "metadata": {},
   "outputs": [],
   "source": [
    "files = glob.glob('./werke/*/*.xml')"
   ]
  },
  {
   "cell_type": "code",
   "execution_count": 3,
   "id": "b08d59f1",
   "metadata": {},
   "outputs": [
    {
     "data": {
      "text/plain": [
       "['./werke/1901-01/sfe-1901-01__1925.xml']"
      ]
     },
     "execution_count": 3,
     "metadata": {},
     "output_type": "execute_result"
    }
   ],
   "source": [
    "files"
   ]
  },
  {
   "cell_type": "code",
   "execution_count": 4,
   "id": "960b7d9a",
   "metadata": {},
   "outputs": [
    {
     "name": "stdout",
     "output_type": "stream",
     "text": [
      "./werke/1901-01/sfe-1901-01__1925.xml\n"
     ]
    }
   ],
   "source": [
    "for x in files:\n",
    "    print(x)"
   ]
  },
  {
   "cell_type": "code",
   "execution_count": 5,
   "id": "239a37e9",
   "metadata": {},
   "outputs": [
    {
     "name": "stdout",
     "output_type": "stream",
     "text": [
      "Collecting acdh-tei-pyutils\n",
      "  Using cached acdh_tei_pyutils-0.26.0-py2.py3-none-any.whl (16 kB)\n",
      "Collecting click>=7.1.2\n",
      "  Using cached click-8.1.3-py3-none-any.whl (96 kB)\n",
      "Collecting acdh-handle-pyutils==0.3.0\n",
      "  Using cached acdh_handle_pyutils-0.3.0-py2.py3-none-any.whl (4.9 kB)\n",
      "Collecting acdh-xml-pyutils\n",
      "  Using cached acdh_xml_pyutils-0.4.0-py2.py3-none-any.whl (8.3 kB)\n",
      "Collecting tqdm>=4.59.0\n",
      "  Using cached tqdm-4.64.0-py2.py3-none-any.whl (78 kB)\n",
      "Collecting rich==9.1.0\n",
      "  Using cached rich-9.1.0-py3-none-any.whl (161 kB)\n",
      "Requirement already satisfied: requests>=2.1 in ./venv/lib/python3.8/site-packages (from acdh-handle-pyutils==0.3.0->acdh-tei-pyutils) (2.27.1)\n",
      "Requirement already satisfied: lxml in ./venv/lib/python3.8/site-packages (from acdh-xml-pyutils->acdh-tei-pyutils) (4.9.0)\n",
      "Collecting colorama<0.5.0,>=0.4.0\n",
      "  Using cached colorama-0.4.4-py2.py3-none-any.whl (16 kB)\n",
      "Collecting commonmark<0.10.0,>=0.9.0\n",
      "  Using cached commonmark-0.9.1-py2.py3-none-any.whl (51 kB)\n",
      "Requirement already satisfied: pygments<3.0.0,>=2.6.0 in ./venv/lib/python3.8/site-packages (from rich==9.1.0->acdh-handle-pyutils==0.3.0->acdh-tei-pyutils) (2.12.0)\n",
      "Collecting typing-extensions<4.0.0,>=3.7.4\n",
      "  Using cached typing_extensions-3.10.0.2-py3-none-any.whl (26 kB)\n",
      "Requirement already satisfied: idna<4,>=2.5; python_version >= \"3\" in ./venv/lib/python3.8/site-packages (from requests>=2.1->acdh-handle-pyutils==0.3.0->acdh-tei-pyutils) (3.3)\n",
      "Requirement already satisfied: urllib3<1.27,>=1.21.1 in ./venv/lib/python3.8/site-packages (from requests>=2.1->acdh-handle-pyutils==0.3.0->acdh-tei-pyutils) (1.26.9)\n",
      "Requirement already satisfied: certifi>=2017.4.17 in ./venv/lib/python3.8/site-packages (from requests>=2.1->acdh-handle-pyutils==0.3.0->acdh-tei-pyutils) (2022.5.18.1)\n",
      "Requirement already satisfied: charset-normalizer~=2.0.0; python_version >= \"3\" in ./venv/lib/python3.8/site-packages (from requests>=2.1->acdh-handle-pyutils==0.3.0->acdh-tei-pyutils) (2.0.12)\n",
      "Installing collected packages: click, colorama, commonmark, typing-extensions, rich, acdh-handle-pyutils, acdh-xml-pyutils, tqdm, acdh-tei-pyutils\n",
      "Successfully installed acdh-handle-pyutils-0.3.0 acdh-tei-pyutils-0.26.0 acdh-xml-pyutils-0.4.0 click-8.1.3 colorama-0.4.4 commonmark-0.9.1 rich-9.1.0 tqdm-4.64.0 typing-extensions-3.10.0.2\n"
     ]
    }
   ],
   "source": [
    "!pip install acdh-tei-pyutils"
   ]
  },
  {
   "cell_type": "code",
   "execution_count": 9,
   "id": "3a9e4c7d",
   "metadata": {},
   "outputs": [],
   "source": [
    "from acdh_tei_pyutils.tei import TeiReader\n",
    "from datetime import datetime"
   ]
  },
  {
   "cell_type": "code",
   "execution_count": 10,
   "id": "f79cc1b0",
   "metadata": {},
   "outputs": [],
   "source": [
    "array = []\n",
    "date = datetime.today().strftime('%Y-%m-%d')\n",
    "for x in files:\n",
    "    try:\n",
    "        doc = TeiReader(x)\n",
    "        data = f\"no errors found\"\n",
    "        array.append({\n",
    "            \"verification_errors\": data,\n",
    "            \"filename\": x,\n",
    "            \"verified\": True,\n",
    "            \"date\": date\n",
    "        })\n",
    "    except Exception as e:\n",
    "        data = e\n",
    "        array.append({\n",
    "            \"verification_errors\": data,\n",
    "            \"filename\": x,\n",
    "            \"verified\": False,\n",
    "            \"date\": date\n",
    "        })"
   ]
  },
  {
   "cell_type": "code",
   "execution_count": 11,
   "id": "fa45e3b3",
   "metadata": {},
   "outputs": [
    {
     "data": {
      "text/plain": [
       "[{'verification_errors': 'no errors found',\n",
       "  'filename': './werke/1901-01/sfe-1901-01__1925.xml',\n",
       "  'verified': True,\n",
       "  'date': '2022-06-08'}]"
      ]
     },
     "execution_count": 11,
     "metadata": {},
     "output_type": "execute_result"
    }
   ],
   "source": [
    "array"
   ]
  },
  {
   "cell_type": "code",
   "execution_count": null,
   "id": "3e86eb34",
   "metadata": {},
   "outputs": [],
   "source": []
  }
 ],
 "metadata": {
  "kernelspec": {
   "display_name": "Python 3 (ipykernel)",
   "language": "python",
   "name": "python3"
  },
  "language_info": {
   "codemirror_mode": {
    "name": "ipython",
    "version": 3
   },
   "file_extension": ".py",
   "mimetype": "text/x-python",
   "name": "python",
   "nbconvert_exporter": "python",
   "pygments_lexer": "ipython3",
   "version": "3.8.10"
  }
 },
 "nbformat": 4,
 "nbformat_minor": 5
}
